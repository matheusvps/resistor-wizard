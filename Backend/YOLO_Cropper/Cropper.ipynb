{
 "cells": [
  {
   "cell_type": "markdown",
   "id": "135b9302-965c-456f-8776-ae2e34117529",
   "metadata": {},
   "source": [
    "<h1 align=\"center\">\n",
    "    YOLO v8 training \n",
    "</h1>"
   ]
  },
  {
   "cell_type": "markdown",
   "id": "7af84a9a-2b26-4bea-9c49-4aafc3afb816",
   "metadata": {},
   "source": [
    "> ### This notebook contains the required code to train the YOLO v8 object detection model and run its inference on a set of files\n",
    "___"
   ]
  },
  {
   "cell_type": "markdown",
   "id": "f7d4a04a-b80d-4ec8-b6c2-cdc6e51d209d",
   "metadata": {},
   "source": [
    "#### Imports used packages"
   ]
  },
  {
   "cell_type": "code",
   "execution_count": 1,
   "id": "7dcd4395-7114-4e0a-a54a-cd43e9c3aa80",
   "metadata": {},
   "outputs": [],
   "source": [
    "# All imports needed\n",
    "from ultralytics import YOLO\n",
    "import os\n",
    "import cv2 as cv\n",
    "from PIL import Image"
   ]
  },
  {
   "cell_type": "markdown",
   "id": "b6672c2f-d063-40b9-8bed-b674bba756c2",
   "metadata": {},
   "source": [
    "#### Loads YOLO v8 model for training and inference"
   ]
  },
  {
   "cell_type": "code",
   "execution_count": 4,
   "id": "ddfc76c0-d7a0-4567-9c6c-f10c0aa012a6",
   "metadata": {
    "editable": true,
    "slideshow": {
     "slide_type": ""
    },
    "tags": []
   },
   "outputs": [],
   "source": [
    "# Load a model\n",
    "model = YOLO(\"D:\\\\Joule\\\\Documents\\\\Jhony\\\\Universidade\\\\UTFPR\\\\2023.2\\\\Oficinas\\\\resistor-wizard\\\\Backend\\\\YOLO_Cropper\\\\latest\\\\best.pt\")"
   ]
  },
  {
   "cell_type": "code",
   "execution_count": null,
   "id": "17392816-195a-4281-a7b5-0b5d583f8e79",
   "metadata": {},
   "outputs": [],
   "source": [
    "# Train model using custom dataset  ~  UPDATE PATH OF DATASET YAML ~\n",
    "results = model.train(data=\"Metal Film Leaded Resistors Dataset\\\\data.yaml\", epochs=100)  "
   ]
  },
  {
   "cell_type": "code",
   "execution_count": 5,
   "id": "cc5e5a06-9aba-42aa-bcc0-7ed09dac0499",
   "metadata": {},
   "outputs": [
    {
     "name": "stderr",
     "output_type": "stream",
     "text": [
      "\n",
      "image 1/1 D:\\Joule\\Documents\\Jhony\\Universidade\\UTFPR\\2023.2\\Oficinas\\resistor-wizard\\Backend\\Fotos_Resistores\\0011.png: 640x384 1 Resistor, 23.0ms\n",
      "Speed: 2.0ms preprocess, 23.0ms inference, 166.9ms postprocess per image at shape (1, 3, 640, 384)\n",
      "Results saved to \u001b[1mruns\\detect\\predict3\u001b[0m\n"
     ]
    }
   ],
   "source": [
    "path_test = \"D:\\\\Joule\\\\Documents\\\\Jhony\\\\Universidade\\\\UTFPR\\\\2023.2\\\\Oficinas\\\\resistor-wizard\\\\Backend\\\\Fotos_Resistores\\\\0011.png\"  # Test file for inference\n",
    "pred = model(path_test, save=True, conf=0.6, show_labels=False, show_conf=False)"
   ]
  },
  {
   "cell_type": "code",
   "execution_count": 6,
   "id": "204245f9-f411-4e55-9ab4-921339f3dc3e",
   "metadata": {},
   "outputs": [
    {
     "data": {
      "text/plain": [
       "193"
      ]
     },
     "execution_count": 6,
     "metadata": {},
     "output_type": "execute_result"
    }
   ],
   "source": [
    "int(pred[0].boxes.cpu().data[0][0])"
   ]
  },
  {
   "cell_type": "code",
   "execution_count": null,
   "id": "db23b9ad-7dea-473b-8e28-5d30b0185d12",
   "metadata": {},
   "outputs": [],
   "source": [
    "# Returns a list of all files in a given directory\n",
    "def get_files(dir):\n",
    "    tests = []\n",
    "    for root, dirs, files in os.walk(dir):\n",
    "        for name in files:\n",
    "            tests.append(os.path.join(dir,name))\n",
    "    return tests"
   ]
  },
  {
   "cell_type": "code",
   "execution_count": null,
   "id": "2c9cd52a-da71-435c-9841-c74d11c18d50",
   "metadata": {},
   "outputs": [],
   "source": [
    "# Runs inference on all files in files and saves them\n",
    "files = get_files(\"D:\\\\Joule\\\\Documents\\\\Jhony\\\\Universidade\\\\UTFPR\\\\2023.2\\\\Oficinas\\\\resistor-wizard\\\\Backend\\\\Fotos_Resistores\")\n",
    "for file in files:\n",
    "    npath = \"\\\\\".join(file.split(\"\\\\\")[:-2])  # Gets root dir\n",
    "    npath = os.path.join(npath, \"Fotos_cropped\\\\\"+file.split(\"\\\\\")[-1])\n",
    "    if not os.path.isfile(npath):\n",
    "        try:\n",
    "            pred = model([file])\n",
    "            img = cv.imread(file)\n",
    "            box = [int(i) for i in pred[0].boxes.data[0]]\n",
    "            img = img[box[1]:box[3], box[0]:box[2]]\n",
    "            Image.fromarray(cv.cvtColor(img, cv.COLOR_BGR2RGB)).save(npath)\n",
    "        except IndexError:\n",
    "            pass\n"
   ]
  },
  {
   "cell_type": "code",
   "execution_count": null,
   "id": "a396909a-0bfb-4640-a467-303b2a63a02f",
   "metadata": {},
   "outputs": [],
   "source": []
  }
 ],
 "metadata": {
  "kernelspec": {
   "display_name": "Python 3 (ipykernel)",
   "language": "python",
   "name": "python3"
  },
  "language_info": {
   "codemirror_mode": {
    "name": "ipython",
    "version": 3
   },
   "file_extension": ".py",
   "mimetype": "text/x-python",
   "name": "python",
   "nbconvert_exporter": "python",
   "pygments_lexer": "ipython3",
   "version": "3.11.4"
  }
 },
 "nbformat": 4,
 "nbformat_minor": 5
}

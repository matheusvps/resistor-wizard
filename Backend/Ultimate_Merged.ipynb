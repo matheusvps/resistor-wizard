{
 "cells": [
  {
   "cell_type": "markdown",
   "id": "5d544c87-9967-4b98-8fb5-0aa388f36beb",
   "metadata": {},
   "source": [
    "# Merged codebase for the entire ML/Computer Vision parts of the project"
   ]
  },
  {
   "cell_type": "markdown",
   "id": "c88fb99c",
   "metadata": {},
   "source": [
    "###### *This file needs to be placed on ../Backend/*"
   ]
  },
  {
   "cell_type": "markdown",
   "id": "af83425b-8b41-4b69-8277-18192a8138f0",
   "metadata": {},
   "source": [
    "### Imports packages needed and defines GLOBAL variables"
   ]
  },
  {
   "cell_type": "code",
   "execution_count": 1,
   "id": "80fdf00f-c5e1-4706-a51d-5a961b7e45d5",
   "metadata": {},
   "outputs": [],
   "source": [
    "# All imports needed\n",
    "from ultralytics import YOLO\n",
    "from PIL import Image\n",
    "import csv\n",
    "from RPi.utils import * # GLOBAL Parameters defined here\n",
    "\n",
    "if not os.path.isdir(tmp_dir):\n",
    "    os.makedirs(tmp_dir)"
   ]
  },
  {
   "cell_type": "markdown",
   "id": "8933d334-1c13-461e-aa2f-9227f63c5a43",
   "metadata": {},
   "source": [
    "### Loads pre-trained models"
   ]
  },
  {
   "cell_type": "code",
   "execution_count": 2,
   "id": "5abd17fc-2b2f-4ccc-9f2c-b90594fc272b",
   "metadata": {},
   "outputs": [],
   "source": [
    "cropResistor = YOLO(\"YOLO_Cropper\\\\latest\\\\best.pt\")\n",
    "findColorBands = YOLO(\"YOLO_Segmenter\\\\latest\\\\best_v11.pt\")"
   ]
  },
  {
   "cell_type": "markdown",
   "id": "69827137-87b0-4501-8129-0c10731e0b1a",
   "metadata": {
    "jp-MarkdownHeadingCollapsed": true
   },
   "source": [
    "### Code used for extracting and handling color classes"
   ]
  },
  {
   "cell_type": "code",
   "execution_count": 3,
   "id": "d648ef29-9731-48d8-9ae9-00020f620832",
   "metadata": {},
   "outputs": [],
   "source": [
    "# Extracts the CSV files' color data to create color classes\n",
    "def extract_colors(directory):\n",
    "    classes = dict()\n",
    "    for file in os.listdir(directory):\n",
    "        if os.path.isfile(file):\n",
    "            ext = file.split('.')[-1]\n",
    "            name = \".\".join(file.split('.')[:-1])\n",
    "            if ext == \"csv\":\n",
    "                with open(file) as csv_file:\n",
    "                    csv_reader = csv.reader(csv_file, delimiter=',')\n",
    "                    line_count = 0\n",
    "                    summ = np.array([0,0,0])\n",
    "                    for row in csv_reader:\n",
    "                        H = int(row[0])\n",
    "                        S = int(row[1])\n",
    "                        V = int(row[2])\n",
    "                        hsv = np.array([H,S,V])\n",
    "                        line_count += 1\n",
    "                        summ += hsv\n",
    "                \n",
    "                classes[name] = summ/line_count\n",
    "    return classes"
   ]
  },
  {
   "cell_type": "markdown",
   "id": "2f7a8aa0-1db9-42c7-8fcd-c5a6f5c8434c",
   "metadata": {},
   "source": [
    "### Merged inference code"
   ]
  },
  {
   "cell_type": "code",
   "execution_count": 7,
   "id": "af9bb976-680d-4538-b4b5-334b62251eea",
   "metadata": {},
   "outputs": [],
   "source": [
    "file = \"Functionality Tests\\\\black_bg_02.jpg\""
   ]
  },
  {
   "cell_type": "code",
   "execution_count": 8,
   "id": "05ee68f7-1edc-444c-940a-f123924d8023",
   "metadata": {},
   "outputs": [
    {
     "name": "stderr",
     "output_type": "stream",
     "text": [
      "\n",
      "image 1/1 d:\\Joule\\Documents\\Jhony\\Universidade\\UTFPR\\2023.2\\Oficinas\\resistor-wizard\\Backend\\Functionality Tests\\black_bg_02.jpg: 640x480 1 Resistor, 19.0ms\n",
      "Speed: 10.5ms preprocess, 19.0ms inference, 4.1ms postprocess per image at shape (1, 3, 640, 480)\n"
     ]
    }
   ],
   "source": [
    "# Runs crop detection model on file\n",
    "cropped_inf = cropResistor(file, conf=0.6)\n",
    "\n",
    "# Crops and saves original file to a temporary location\n",
    "if len(cropped_inf[0].boxes.data):\n",
    "    cropped = cropImage(cv.imread(file), cropped_inf[0].boxes.cpu().data[0])\n",
    "else:\n",
    "    cropped = cv.imread(file)\n",
    "Image.fromarray(cv.cvtColor(cropped, cv.COLOR_BGR2RGB)).save(tmp_crop)"
   ]
  },
  {
   "cell_type": "code",
   "execution_count": 9,
   "id": "96d723e1-d057-40ff-a583-d28366bb3692",
   "metadata": {},
   "outputs": [
    {
     "name": "stderr",
     "output_type": "stream",
     "text": [
      "\n",
      "image 1/1 d:\\Joule\\Documents\\Jhony\\Universidade\\UTFPR\\2023.2\\Oficinas\\resistor-wizard\\Backend\\tmp\\crop.png: 576x640 3 Color-Bands, 64.1ms\n",
      "Speed: 9.5ms preprocess, 64.1ms inference, 4.0ms postprocess per image at shape (1, 3, 576, 640)\n",
      "Results saved to \u001b[1mruns\\segment\\predict22\u001b[0m\n"
     ]
    }
   ],
   "source": [
    "# Runs color bands segmentation model on cropped inference\n",
    "if len(cropped_inf[0].boxes.data):\n",
    "    colorbands_inf = findColorBands(tmp_crop, save=True, conf=0.6, iou=0.3)\n",
    "else:\n",
    "    colorbands_inf = findColorBands(file, save=True, conf=0.6, iou=0.3)"
   ]
  },
  {
   "cell_type": "markdown",
   "id": "307f6043-0874-4459-aa08-b0ba1c350f3b",
   "metadata": {},
   "source": [
    "### Finds the order of bands"
   ]
  },
  {
   "cell_type": "code",
   "execution_count": null,
   "id": "b0c260e5-88bc-43bd-9458-ec7917b18aa8",
   "metadata": {},
   "outputs": [],
   "source": [
    "# Gets masks objects from the inference\n",
    "masks, _ = timer(get_segmentation_masks, tmp_crop, colorbands_inf, printout=True)\n",
    "\n",
    "# Sorts the masks by distance (it doesn't have a way to \n",
    "#    know in which direction to start, so by default it \n",
    "#    uses the leftmost (0,0) point as a beginning.\n",
    "ordered, _ = timer(order_masks, masks, colorbands_inf, printout=True)"
   ]
  },
  {
   "cell_type": "code",
   "execution_count": null,
   "id": "792b6af6",
   "metadata": {},
   "outputs": [],
   "source": [
    "for i in range(len(ordered)):\n",
    "    print(f\"BBOX: {[int(j) for j in ordered[i].bbox[:4]]} \\t Index: {ordered[i].index} \\t HSV: {cvtBGR2HSV(ordered[i].avgColor, paint=True)}\")"
   ]
  },
  {
   "cell_type": "code",
   "execution_count": null,
   "id": "dbf960fb-f30a-4c74-9eb0-9762f4465691",
   "metadata": {},
   "outputs": [],
   "source": [
    "# Retrieves the color name from masks average color\n",
    "# Numbers on the side represent the number of samples used for each color's average\n",
    "#  Files used to sample: res2.png, res.png, crop.jpg\n",
    "COLOR_RANGES = {}\n",
    "def sample_color_names(mask):\n",
    "    pass"
   ]
  },
  {
   "cell_type": "code",
   "execution_count": null,
   "id": "b149f065-d16e-4573-8b51-88d3e8feebc3",
   "metadata": {},
   "outputs": [],
   "source": []
  },
  {
   "cell_type": "code",
   "execution_count": null,
   "id": "5cae56dc-7c72-41dd-bbc4-3e1c903f0e82",
   "metadata": {},
   "outputs": [],
   "source": []
  },
  {
   "cell_type": "code",
   "execution_count": null,
   "id": "9e5217e0-6dad-4d27-b043-77e48ae2989e",
   "metadata": {},
   "outputs": [],
   "source": []
  },
  {
   "cell_type": "code",
   "execution_count": null,
   "id": "0d3a7123-8d94-49bf-af6f-e4fc0c752f13",
   "metadata": {},
   "outputs": [],
   "source": []
  },
  {
   "cell_type": "code",
   "execution_count": null,
   "id": "6db4f1d9-e676-475f-a630-f1d75e45e969",
   "metadata": {},
   "outputs": [],
   "source": []
  }
 ],
 "metadata": {
  "kernelspec": {
   "display_name": "Python 3 (ipykernel)",
   "language": "python",
   "name": "python3"
  },
  "language_info": {
   "codemirror_mode": {
    "name": "ipython",
    "version": 3
   },
   "file_extension": ".py",
   "mimetype": "text/x-python",
   "name": "python",
   "nbconvert_exporter": "python",
   "pygments_lexer": "ipython3",
   "version": "3.11.4"
  }
 },
 "nbformat": 4,
 "nbformat_minor": 5
}

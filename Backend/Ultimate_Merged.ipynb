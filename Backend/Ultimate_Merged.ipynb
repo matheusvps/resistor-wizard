{
 "cells": [
  {
   "cell_type": "markdown",
   "id": "5d544c87-9967-4b98-8fb5-0aa388f36beb",
   "metadata": {},
   "source": [
    "# Merged codebase for the entire ML/Computer Vision parts of the project"
   ]
  },
  {
   "cell_type": "markdown",
   "id": "c88fb99c",
   "metadata": {},
   "source": [
    "###### *This file needs to be placed on ../Backend/*"
   ]
  },
  {
   "cell_type": "markdown",
   "id": "af83425b-8b41-4b69-8277-18192a8138f0",
   "metadata": {},
   "source": [
    "### Imports packages needed and defines GLOBAL variables"
   ]
  },
  {
   "cell_type": "code",
   "execution_count": 1,
   "id": "80fdf00f-c5e1-4706-a51d-5a961b7e45d5",
   "metadata": {},
   "outputs": [],
   "source": [
    "# All imports needed\n",
    "from ultralytics import YOLO\n",
    "from PIL import Image\n",
    "import csv\n",
    "from utils import * # GLOBAL Parameters defined here\n",
    "\n",
    "if not os.path.isdir(tmp_dir):\n",
    "    os.makedirs(tmp_dir)"
   ]
  },
  {
   "cell_type": "markdown",
   "id": "8933d334-1c13-461e-aa2f-9227f63c5a43",
   "metadata": {},
   "source": [
    "### Loads pre-trained models"
   ]
  },
  {
   "cell_type": "code",
   "execution_count": 2,
   "id": "5abd17fc-2b2f-4ccc-9f2c-b90594fc272b",
   "metadata": {},
   "outputs": [],
   "source": [
    "cropResistor = YOLO(\"YOLO_Cropper\\\\latest\\\\best.pt\")\n",
    "findColorBands = YOLO(\"YOLO_Segmenter\\\\latest\\\\best_v10.pt\")"
   ]
  },
  {
   "cell_type": "markdown",
   "id": "69827137-87b0-4501-8129-0c10731e0b1a",
   "metadata": {
    "jp-MarkdownHeadingCollapsed": true
   },
   "source": [
    "### Code used for extracting and handling color classes"
   ]
  },
  {
   "cell_type": "code",
   "execution_count": 3,
   "id": "d648ef29-9731-48d8-9ae9-00020f620832",
   "metadata": {},
   "outputs": [],
   "source": [
    "# Extracts the CSV files' color data to create color classes\n",
    "def extract_colors(directory):\n",
    "    classes = dict()\n",
    "    for file in os.listdir(directory):\n",
    "        if os.path.isfile(file):\n",
    "            ext = file.split('.')[-1]\n",
    "            name = \".\".join(file.split('.')[:-1])\n",
    "            if ext == \"csv\":\n",
    "                with open(file) as csv_file:\n",
    "                    csv_reader = csv.reader(csv_file, delimiter=',')\n",
    "                    line_count = 0\n",
    "                    summ = np.array([0,0,0])\n",
    "                    for row in csv_reader:\n",
    "                        H = int(row[0])\n",
    "                        S = int(row[1])\n",
    "                        V = int(row[2])\n",
    "                        hsv = np.array([H,S,V])\n",
    "                        line_count += 1\n",
    "                        summ += hsv\n",
    "                \n",
    "                classes[name] = summ/line_count\n",
    "    return classes"
   ]
  },
  {
   "cell_type": "markdown",
   "id": "2f7a8aa0-1db9-42c7-8fcd-c5a6f5c8434c",
   "metadata": {},
   "source": [
    "### Merged inference code"
   ]
  },
  {
   "cell_type": "code",
   "execution_count": 4,
   "id": "af9bb976-680d-4538-b4b5-334b62251eea",
   "metadata": {},
   "outputs": [],
   "source": [
    "file = \"Functionality Tests\\\\0009.png\""
   ]
  },
  {
   "cell_type": "code",
   "execution_count": 5,
   "id": "05ee68f7-1edc-444c-940a-f123924d8023",
   "metadata": {},
   "outputs": [
    {
     "name": "stderr",
     "output_type": "stream",
     "text": [
      "\n",
      "image 1/1 e:\\Users\\jhony\\Documents\\Jhony\\Universidade\\UTFPR\\2023.2\\Oficinas\\resistor-wizard\\Backend\\Functionality Tests\\0009.png: 640x640 (no detections), 46.9ms\n",
      "Speed: 133.7ms preprocess, 46.9ms inference, 499.8ms postprocess per image at shape (1, 3, 640, 640)\n"
     ]
    }
   ],
   "source": [
    "# Runs crop detection model on file\n",
    "cropped_inf = cropResistor(file, conf=0.6)\n",
    "\n",
    "# Crops and saves original file to a temporary location\n",
    "if len(cropped_inf[0].boxes.data):\n",
    "    cropped = cropImage(cv.imread(file), cropped_inf[0].boxes.cpu().data[0])\n",
    "else:\n",
    "    cropped = cv.imread(file)\n",
    "Image.fromarray(cv.cvtColor(cropped, cv.COLOR_BGR2RGB)).save(tmp_crop)"
   ]
  },
  {
   "cell_type": "code",
   "execution_count": 6,
   "id": "96d723e1-d057-40ff-a583-d28366bb3692",
   "metadata": {},
   "outputs": [
    {
     "name": "stderr",
     "output_type": "stream",
     "text": [
      "\n",
      "WARNING  NMS time limit 0.550s exceeded\n",
      "image 1/1 e:\\Users\\jhony\\Documents\\Jhony\\Universidade\\UTFPR\\2023.2\\Oficinas\\resistor-wizard\\Backend\\Functionality Tests\\0009.png: 640x640 4 Color-Bands, 99.1ms\n",
      "Speed: 11.6ms preprocess, 99.1ms inference, 1664.1ms postprocess per image at shape (1, 3, 640, 640)\n",
      "Results saved to \u001b[1me:\\Users\\jhony\\Documents\\Jhony\\Universidade\\UTFPR\\2023.2\\Oficinas\\resistor-wizard\\runs\\segment\\predict\u001b[0m\n"
     ]
    }
   ],
   "source": [
    "# Runs color bands segmentation model on cropped inference\n",
    "if len(cropped_inf[0].boxes.data):\n",
    "    colorbands_inf = findColorBands(tmp_crop, save=True, conf=0.6, iou=0.3)\n",
    "else:\n",
    "    colorbands_inf = findColorBands(file, save=True, conf=0.6, iou=0.3)"
   ]
  },
  {
   "cell_type": "code",
   "execution_count": 9,
   "id": "5511e4d9",
   "metadata": {},
   "outputs": [
    {
     "data": {
      "text/plain": [
       "'\\nfor i in range(len(inference[0].masks.xy)):\\n    polygon = inference[0].masks.xy[i].astype(int)\\n    masks[i].bbox = inference[0].boxes.cpu().data[i]\\n    masks[i].contour = polygon.reshape((-1, 1, 2))  # Reshape to match the format expected by cv.drawContours\\n    masks[i].mask = cv.fillPoly(masks[i].mask, [masks[i].contour], tuple([data]*3)) # converts polygon points to pixels inside it\\n    masks[i].sample_avg_color()\\n'"
      ]
     },
     "execution_count": 9,
     "metadata": {},
     "output_type": "execute_result"
    }
   ],
   "source": [
    "img = file\n",
    "inference = colorbands_inf\n",
    "data = 255\n",
    "\n",
    "image = cv.imread(img)\n",
    "masks = [Mask(image) for i in range(len(inference[0].masks.xy))]\n",
    "\"\"\"\n",
    "for i in range(len(inference[0].masks.xy)):\n",
    "    polygon = inference[0].masks.xy[i].astype(int)\n",
    "    masks[i].bbox = inference[0].boxes.cpu().data[i]\n",
    "    masks[i].contour = polygon.reshape((-1, 1, 2))  # Reshape to match the format expected by cv.drawContours\n",
    "    masks[i].mask = cv.fillPoly(masks[i].mask, [masks[i].contour], tuple([data]*3)) # converts polygon points to pixels inside it\n",
    "    masks[i].sample_avg_color()\n",
    "\"\"\""
   ]
  },
  {
   "cell_type": "code",
   "execution_count": 18,
   "id": "60be3884",
   "metadata": {},
   "outputs": [
    {
     "data": {
      "text/plain": [
       "array([[365, 310],\n",
       "       [363, 311],\n",
       "       [360, 311],\n",
       "       [358, 312],\n",
       "       [357, 312],\n",
       "       [356, 313],\n",
       "       [356, 315],\n",
       "       [355, 316],\n",
       "       [355, 367],\n",
       "       [356, 368],\n",
       "       [356, 372],\n",
       "       [357, 373],\n",
       "       [357, 376],\n",
       "       [358, 377],\n",
       "       [358, 380],\n",
       "       [360, 381],\n",
       "       [360, 385],\n",
       "       [361, 386],\n",
       "       [361, 387],\n",
       "       [362, 388],\n",
       "       [362, 390],\n",
       "       [363, 391],\n",
       "       [363, 393],\n",
       "       [365, 395],\n",
       "       [365, 398],\n",
       "       [366, 400],\n",
       "       [366, 402],\n",
       "       [367, 403],\n",
       "       [367, 405],\n",
       "       [368, 406],\n",
       "       [368, 408],\n",
       "       [370, 410],\n",
       "       [370, 413],\n",
       "       [371, 415],\n",
       "       [371, 418],\n",
       "       [372, 420],\n",
       "       [372, 421],\n",
       "       [373, 422],\n",
       "       [373, 425],\n",
       "       [375, 426],\n",
       "       [375, 431],\n",
       "       [376, 432],\n",
       "       [376, 436],\n",
       "       [377, 437],\n",
       "       [377, 438],\n",
       "       [378, 440],\n",
       "       [378, 442],\n",
       "       [380, 443],\n",
       "       [380, 447],\n",
       "       [381, 448],\n",
       "       [381, 450],\n",
       "       [382, 451],\n",
       "       [382, 452],\n",
       "       [383, 453],\n",
       "       [383, 455],\n",
       "       [385, 456],\n",
       "       [385, 461],\n",
       "       [386, 462],\n",
       "       [386, 466],\n",
       "       [388, 468],\n",
       "       [388, 470],\n",
       "       [391, 472],\n",
       "       [392, 472],\n",
       "       [393, 473],\n",
       "       [400, 473],\n",
       "       [401, 472],\n",
       "       [405, 472],\n",
       "       [406, 471],\n",
       "       [408, 471],\n",
       "       [410, 470],\n",
       "       [413, 470],\n",
       "       [415, 468],\n",
       "       [421, 468],\n",
       "       [422, 467],\n",
       "       [423, 467],\n",
       "       [426, 465],\n",
       "       [426, 463],\n",
       "       [427, 462],\n",
       "       [427, 461],\n",
       "       [426, 460],\n",
       "       [426, 457],\n",
       "       [425, 456],\n",
       "       [425, 453],\n",
       "       [423, 452],\n",
       "       [423, 450],\n",
       "       [422, 448],\n",
       "       [422, 447],\n",
       "       [421, 446],\n",
       "       [421, 445],\n",
       "       [420, 443],\n",
       "       [420, 442],\n",
       "       [418, 441],\n",
       "       [418, 436],\n",
       "       [417, 435],\n",
       "       [417, 432],\n",
       "       [415, 430],\n",
       "       [415, 427],\n",
       "       [413, 426],\n",
       "       [413, 422],\n",
       "       [412, 421],\n",
       "       [412, 420],\n",
       "       [411, 418],\n",
       "       [411, 417],\n",
       "       [410, 416],\n",
       "       [410, 415],\n",
       "       [408, 413],\n",
       "       [408, 410],\n",
       "       [407, 408],\n",
       "       [407, 406],\n",
       "       [405, 403],\n",
       "       [405, 401],\n",
       "       [403, 400],\n",
       "       [403, 395],\n",
       "       [402, 393],\n",
       "       [402, 391],\n",
       "       [400, 388],\n",
       "       [400, 385],\n",
       "       [398, 383],\n",
       "       [398, 376],\n",
       "       [397, 375],\n",
       "       [397, 371],\n",
       "       [396, 370],\n",
       "       [396, 368],\n",
       "       [395, 367],\n",
       "       [395, 363],\n",
       "       [393, 362],\n",
       "       [393, 357],\n",
       "       [392, 356],\n",
       "       [392, 355],\n",
       "       [391, 353],\n",
       "       [391, 352],\n",
       "       [390, 351],\n",
       "       [390, 350],\n",
       "       [388, 348],\n",
       "       [388, 327],\n",
       "       [387, 326],\n",
       "       [387, 321],\n",
       "       [386, 320],\n",
       "       [386, 318],\n",
       "       [385, 317],\n",
       "       [385, 311],\n",
       "       [383, 311],\n",
       "       [382, 310]])"
      ]
     },
     "execution_count": 18,
     "metadata": {},
     "output_type": "execute_result"
    }
   ],
   "source": [
    "i = 0\n",
    "pol = inference[0].masks.xy[i].astype(int)\n",
    "#bbox = inference[0].boxes.cpu().data[i]\n",
    "contour = pol.reshape((-1, 1, 2)) \n",
    "mask = cv.fillPoly(masks[i].mask, [contour], tuple([data]*3)) \n",
    "pol"
   ]
  },
  {
   "cell_type": "markdown",
   "id": "307f6043-0874-4459-aa08-b0ba1c350f3b",
   "metadata": {},
   "source": [
    "### Finds the order of bands"
   ]
  },
  {
   "cell_type": "code",
   "execution_count": 7,
   "id": "b0c260e5-88bc-43bd-9458-ec7917b18aa8",
   "metadata": {},
   "outputs": [
    {
     "name": "stdout",
     "output_type": "stream",
     "text": [
      "Function \u001b[94m get_segmentation_masks \u001b[0m took 18.30s to run.\n",
      "Function \u001b[94m order_masks \u001b[0m took 0.20s to run.\n"
     ]
    }
   ],
   "source": [
    "# Gets masks objects from the inference\n",
    "masks, _ = timer(get_segmentation_masks, tmp_crop, colorbands_inf, printout=True)\n",
    "\n",
    "# Sorts the masks by distance (it doesn't have a way to \n",
    "#    know in which direction to start, so by default it \n",
    "#    uses the leftmost (0,0) point as a beginning.\n",
    "ordered = timer(order_masks, masks, colorbands_inf, printout=True)"
   ]
  },
  {
   "cell_type": "code",
   "execution_count": null,
   "id": "db74b08a",
   "metadata": {},
   "outputs": [],
   "source": [
    "len(ordered)"
   ]
  },
  {
   "cell_type": "code",
   "execution_count": null,
   "id": "81d10dbb-db6e-4f0c-bd7a-8f2efefb19d1",
   "metadata": {},
   "outputs": [],
   "source": [
    "for i in range(len(ordered)):\n",
    "    print(f\"BBOX: {ordered[i].bbox[:4]} \\t\\t HSV: {cvtBGR2HSV(ordered[i].avgColor[0], paint=True)}\")"
   ]
  },
  {
   "cell_type": "code",
   "execution_count": null,
   "id": "1bb16a61",
   "metadata": {},
   "outputs": [],
   "source": []
  },
  {
   "cell_type": "code",
   "execution_count": null,
   "id": "dbf960fb-f30a-4c74-9eb0-9762f4465691",
   "metadata": {},
   "outputs": [],
   "source": [
    "# Retrieves the color name from masks average color\n",
    "# Numbers on the side represent the number of samples used for each color's average\n",
    "#  Files used to sample: res2.png, res.png, crop.jpg\n",
    "COLOR_RANGES = {}\n",
    "def sample_color_names(mask):\n",
    "    pass"
   ]
  },
  {
   "cell_type": "code",
   "execution_count": null,
   "id": "b149f065-d16e-4573-8b51-88d3e8feebc3",
   "metadata": {},
   "outputs": [],
   "source": []
  },
  {
   "cell_type": "code",
   "execution_count": null,
   "id": "5cae56dc-7c72-41dd-bbc4-3e1c903f0e82",
   "metadata": {},
   "outputs": [],
   "source": []
  },
  {
   "cell_type": "code",
   "execution_count": null,
   "id": "9e5217e0-6dad-4d27-b043-77e48ae2989e",
   "metadata": {},
   "outputs": [],
   "source": []
  },
  {
   "cell_type": "code",
   "execution_count": null,
   "id": "0d3a7123-8d94-49bf-af6f-e4fc0c752f13",
   "metadata": {},
   "outputs": [],
   "source": []
  },
  {
   "cell_type": "code",
   "execution_count": null,
   "id": "6db4f1d9-e676-475f-a630-f1d75e45e969",
   "metadata": {},
   "outputs": [],
   "source": []
  }
 ],
 "metadata": {
  "kernelspec": {
   "display_name": "Python 3 (ipykernel)",
   "language": "python",
   "name": "python3"
  },
  "language_info": {
   "codemirror_mode": {
    "name": "ipython",
    "version": 3
   },
   "file_extension": ".py",
   "mimetype": "text/x-python",
   "name": "python",
   "nbconvert_exporter": "python",
   "pygments_lexer": "ipython3",
   "version": "3.11.5"
  }
 },
 "nbformat": 4,
 "nbformat_minor": 5
}
